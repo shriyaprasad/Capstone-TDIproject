{
 "cells": [
  {
   "cell_type": "markdown",
   "metadata": {},
   "source": [
    "# Human Resource Analytics"
   ]
  },
  {
   "cell_type": "markdown",
   "metadata": {},
   "source": [
    "## Im [Shriya Prasad](https://www.linkedin.com/in/shriya-prasad). I recently graduated from the University of Texas - San Antonio, with a Master's in Computer Science. My concentration was Data Science. My capstone project is Human Resource Analytics.\n",
    "## We know that in today's competitive world, employees are the main reason for a company's success. Thus every company needs an analysis of its Attrition Rates for it to sustain itself in the market. It is said that any healthy company has attrition rates of about 10%. Learning about attrition rates could help a lot for a company to retain its employees and have better customer employee relations. Using statistical analysis and Machine Learning techniques, we can find the attrition rates for a given company. "
   ]
  },
  {
   "cell_type": "markdown",
   "metadata": {},
   "source": [
    "### Importing libraries I have used Pandas, sklearn numpy, seaborn and matplotlib"
   ]
  },
  {
   "cell_type": "code",
   "execution_count": 1,
   "metadata": {},
   "outputs": [],
   "source": [
    "import pandas as pd\n",
    "import matplotlib.pyplot as plt\n",
    "from sklearn.linear_model import LogisticRegression\n",
    "from sklearn.ensemble import ExtraTreesClassifier ,RandomForestClassifier\n",
    "import seaborn as sns\n",
    "import numpy as np\n",
    "import re\n",
    "from sklearn.metrics import roc_auc_score\n",
    "import sklearn.model_selection as ms\n",
    "from sklearn import metrics"
   ]
  },
  {
   "cell_type": "markdown",
   "metadata": {},
   "source": [
    "## Dataset\n",
    "### To perform the analysis I have a dataset consisting of multiple companies and attributes for each company such as \"Salary\", \"Projects being handled\", \"Pros\",\"Cons\",\" Job Title\",\"Work Balance\", \"Culture Values\" and \"Career opportunities\".  These attributes aid in our analysis and help us in understanding the most important factor for the employees to leave the company. The data set has about 67.5k entries. Each row specifies a different person working in a company. "
   ]
  },
  {
   "cell_type": "code",
   "execution_count": 2,
   "metadata": {},
   "outputs": [
    {
     "data": {
      "text/html": [
       "<div>\n",
       "<style scoped>\n",
       "    .dataframe tbody tr th:only-of-type {\n",
       "        vertical-align: middle;\n",
       "    }\n",
       "\n",
       "    .dataframe tbody tr th {\n",
       "        vertical-align: top;\n",
       "    }\n",
       "\n",
       "    .dataframe thead th {\n",
       "        text-align: right;\n",
       "    }\n",
       "</style>\n",
       "<table border=\"1\" class=\"dataframe\">\n",
       "  <thead>\n",
       "    <tr style=\"text-align: right;\">\n",
       "      <th></th>\n",
       "      <th>company</th>\n",
       "      <th>location</th>\n",
       "      <th>dates</th>\n",
       "      <th>job-title</th>\n",
       "      <th>summary</th>\n",
       "      <th>pros</th>\n",
       "      <th>cons</th>\n",
       "      <th>advice-to-mgmt</th>\n",
       "      <th>overall-ratings</th>\n",
       "      <th>work-balance-stars</th>\n",
       "      <th>culture-values-stars</th>\n",
       "      <th>carrer-opportunities-stars</th>\n",
       "      <th>comp-benefit-stars</th>\n",
       "      <th>senior-mangemnet-stars</th>\n",
       "      <th>helpful-count</th>\n",
       "      <th>link</th>\n",
       "    </tr>\n",
       "  </thead>\n",
       "  <tbody>\n",
       "    <tr>\n",
       "      <th>0</th>\n",
       "      <td>google</td>\n",
       "      <td>none</td>\n",
       "      <td>Dec 11, 2018</td>\n",
       "      <td>Current Employee - Anonymous Employee</td>\n",
       "      <td>Best Company to work for</td>\n",
       "      <td>People are smart and friendly</td>\n",
       "      <td>Bureaucracy is slowing things down</td>\n",
       "      <td>none</td>\n",
       "      <td>5.0</td>\n",
       "      <td>4.0</td>\n",
       "      <td>5.0</td>\n",
       "      <td>5.0</td>\n",
       "      <td>4.0</td>\n",
       "      <td>5.0</td>\n",
       "      <td>0</td>\n",
       "      <td>https://www.glassdoor.com/Reviews/Google-Revie...</td>\n",
       "    </tr>\n",
       "    <tr>\n",
       "      <th>1</th>\n",
       "      <td>google</td>\n",
       "      <td>Mountain View, CA</td>\n",
       "      <td>Jun 21, 2013</td>\n",
       "      <td>Former Employee - Program Manager</td>\n",
       "      <td>Moving at the speed of light, burn out is inev...</td>\n",
       "      <td>1) Food, food, food. 15+ cafes on main campus ...</td>\n",
       "      <td>1) Work/life balance. What balance? All those ...</td>\n",
       "      <td>1) Don't dismiss emotional intelligence and ad...</td>\n",
       "      <td>4.0</td>\n",
       "      <td>2.0</td>\n",
       "      <td>3.0</td>\n",
       "      <td>3.0</td>\n",
       "      <td>5.0</td>\n",
       "      <td>3.0</td>\n",
       "      <td>2094</td>\n",
       "      <td>https://www.glassdoor.com/Reviews/Google-Revie...</td>\n",
       "    </tr>\n",
       "    <tr>\n",
       "      <th>2</th>\n",
       "      <td>google</td>\n",
       "      <td>New York, NY</td>\n",
       "      <td>May 10, 2014</td>\n",
       "      <td>Current Employee - Software Engineer III</td>\n",
       "      <td>Great balance between big-company security and...</td>\n",
       "      <td>* If you're a software engineer, you're among ...</td>\n",
       "      <td>* It *is* becoming larger, and with it comes g...</td>\n",
       "      <td>Keep the focus on the user. Everything else wi...</td>\n",
       "      <td>5.0</td>\n",
       "      <td>5.0</td>\n",
       "      <td>4.0</td>\n",
       "      <td>5.0</td>\n",
       "      <td>5.0</td>\n",
       "      <td>4.0</td>\n",
       "      <td>949</td>\n",
       "      <td>https://www.glassdoor.com/Reviews/Google-Revie...</td>\n",
       "    </tr>\n",
       "    <tr>\n",
       "      <th>3</th>\n",
       "      <td>google</td>\n",
       "      <td>Mountain View, CA</td>\n",
       "      <td>Feb 8, 2015</td>\n",
       "      <td>Current Employee - Anonymous Employee</td>\n",
       "      <td>The best place I've worked and also the most d...</td>\n",
       "      <td>You can't find a more well-regarded company th...</td>\n",
       "      <td>I live in SF so the commute can take between 1...</td>\n",
       "      <td>Keep on NOT micromanaging - that is a huge ben...</td>\n",
       "      <td>5.0</td>\n",
       "      <td>2.0</td>\n",
       "      <td>5.0</td>\n",
       "      <td>5.0</td>\n",
       "      <td>4.0</td>\n",
       "      <td>5.0</td>\n",
       "      <td>498</td>\n",
       "      <td>https://www.glassdoor.com/Reviews/Google-Revie...</td>\n",
       "    </tr>\n",
       "    <tr>\n",
       "      <th>4</th>\n",
       "      <td>google</td>\n",
       "      <td>Los Angeles, CA</td>\n",
       "      <td>Jul 19, 2018</td>\n",
       "      <td>Former Employee - Software Engineer</td>\n",
       "      <td>Unique, one of a kind dream job</td>\n",
       "      <td>Google is a world of its own. At every other c...</td>\n",
       "      <td>If you don't work in MTV (HQ), you will be giv...</td>\n",
       "      <td>Promote managers into management for their man...</td>\n",
       "      <td>5.0</td>\n",
       "      <td>5.0</td>\n",
       "      <td>5.0</td>\n",
       "      <td>5.0</td>\n",
       "      <td>5.0</td>\n",
       "      <td>5.0</td>\n",
       "      <td>49</td>\n",
       "      <td>https://www.glassdoor.com/Reviews/Google-Revie...</td>\n",
       "    </tr>\n",
       "  </tbody>\n",
       "</table>\n",
       "</div>"
      ],
      "text/plain": [
       "  company           location          dates  \\\n",
       "0  google               none   Dec 11, 2018   \n",
       "1  google  Mountain View, CA   Jun 21, 2013   \n",
       "2  google       New York, NY   May 10, 2014   \n",
       "3  google  Mountain View, CA    Feb 8, 2015   \n",
       "4  google    Los Angeles, CA   Jul 19, 2018   \n",
       "\n",
       "                                  job-title  \\\n",
       "0     Current Employee - Anonymous Employee   \n",
       "1         Former Employee - Program Manager   \n",
       "2  Current Employee - Software Engineer III   \n",
       "3     Current Employee - Anonymous Employee   \n",
       "4       Former Employee - Software Engineer   \n",
       "\n",
       "                                             summary  \\\n",
       "0                           Best Company to work for   \n",
       "1  Moving at the speed of light, burn out is inev...   \n",
       "2  Great balance between big-company security and...   \n",
       "3  The best place I've worked and also the most d...   \n",
       "4                    Unique, one of a kind dream job   \n",
       "\n",
       "                                                pros  \\\n",
       "0                      People are smart and friendly   \n",
       "1  1) Food, food, food. 15+ cafes on main campus ...   \n",
       "2  * If you're a software engineer, you're among ...   \n",
       "3  You can't find a more well-regarded company th...   \n",
       "4  Google is a world of its own. At every other c...   \n",
       "\n",
       "                                                cons  \\\n",
       "0                 Bureaucracy is slowing things down   \n",
       "1  1) Work/life balance. What balance? All those ...   \n",
       "2  * It *is* becoming larger, and with it comes g...   \n",
       "3  I live in SF so the commute can take between 1...   \n",
       "4  If you don't work in MTV (HQ), you will be giv...   \n",
       "\n",
       "                                      advice-to-mgmt  overall-ratings  \\\n",
       "0                                               none              5.0   \n",
       "1  1) Don't dismiss emotional intelligence and ad...              4.0   \n",
       "2  Keep the focus on the user. Everything else wi...              5.0   \n",
       "3  Keep on NOT micromanaging - that is a huge ben...              5.0   \n",
       "4  Promote managers into management for their man...              5.0   \n",
       "\n",
       "  work-balance-stars culture-values-stars carrer-opportunities-stars  \\\n",
       "0                4.0                  5.0                        5.0   \n",
       "1                2.0                  3.0                        3.0   \n",
       "2                5.0                  4.0                        5.0   \n",
       "3                2.0                  5.0                        5.0   \n",
       "4                5.0                  5.0                        5.0   \n",
       "\n",
       "  comp-benefit-stars senior-mangemnet-stars  helpful-count  \\\n",
       "0                4.0                    5.0              0   \n",
       "1                5.0                    3.0           2094   \n",
       "2                5.0                    4.0            949   \n",
       "3                4.0                    5.0            498   \n",
       "4                5.0                    5.0             49   \n",
       "\n",
       "                                                link  \n",
       "0  https://www.glassdoor.com/Reviews/Google-Revie...  \n",
       "1  https://www.glassdoor.com/Reviews/Google-Revie...  \n",
       "2  https://www.glassdoor.com/Reviews/Google-Revie...  \n",
       "3  https://www.glassdoor.com/Reviews/Google-Revie...  \n",
       "4  https://www.glassdoor.com/Reviews/Google-Revie...  "
      ]
     },
     "execution_count": 2,
     "metadata": {},
     "output_type": "execute_result"
    }
   ],
   "source": [
    "#import data\n",
    "data = pd.read_csv(\"employee_reviews.csv\")\n",
    "df = data.iloc[:,1:]\n",
    "df.head()"
   ]
  },
  {
   "cell_type": "code",
   "execution_count": 3,
   "metadata": {
    "scrolled": true
   },
   "outputs": [
    {
     "name": "stdout",
     "output_type": "stream",
     "text": [
      "company                       False\n",
      "location                      False\n",
      "dates                         False\n",
      "job-title                     False\n",
      "summary                        True\n",
      "pros                          False\n",
      "cons                          False\n",
      "advice-to-mgmt                 True\n",
      "overall-ratings               False\n",
      "work-balance-stars            False\n",
      "culture-values-stars          False\n",
      "carrer-opportunities-stars    False\n",
      "comp-benefit-stars            False\n",
      "senior-mangemnet-stars        False\n",
      "helpful-count                 False\n",
      "link                          False\n",
      "dtype: bool\n"
     ]
    }
   ],
   "source": [
    "#checking for null values\n",
    "print(df.isnull().any()) "
   ]
  },
  {
   "cell_type": "code",
   "execution_count": 4,
   "metadata": {},
   "outputs": [],
   "source": [
    "#replacing values of companies for easier interpretation\n",
    "df['company'] = df['company'].replace('google',1)\n",
    "df['company'] = df['company'].replace('amazon',2)\n",
    "df['company'] = df['company'].replace('facebook',3)\n",
    "df['company'] = df['company'].replace('netflix',4)\n",
    "df['company'] = df['company'].replace('apple',5)\n",
    "df['company'] = df['company'].replace('microsoft',6)"
   ]
  },
  {
   "cell_type": "code",
   "execution_count": 5,
   "metadata": {},
   "outputs": [],
   "source": [
    "#renaming columns for easier interpretation\n",
    "df = df.rename(columns = {'overall-ratings':'ratings','helpful-count':'helpful','job-title' : 'title', 'advice-to-mgmt':'advicemgmt','work-balance-stars':'workbalance','culture-values-stars':'culturevalue','carrer-opportunities-stars':'careeropp','comp-benefit-stars':'compbenefit','senior-mangemnet-stars':'seniormgmt'})"
   ]
  },
  {
   "cell_type": "code",
   "execution_count": 6,
   "metadata": {},
   "outputs": [
    {
     "data": {
      "text/plain": [
       "<matplotlib.axes._subplots.AxesSubplot at 0x7f517bccc8d0>"
      ]
     },
     "execution_count": 6,
     "metadata": {},
     "output_type": "execute_result"
    },
    {
     "data": {
      "image/png": "[encoded data removed]",
      "text/plain": [
       "<Figure size 432x288 with 1 Axes>"
      ]
     },
     "metadata": {},
     "output_type": "display_data"
    }
   ],
   "source": [
    "df['company'].hist(bins='auto')"
   ]
  },
  {
   "cell_type": "code",
   "execution_count": 7,
   "metadata": {},
   "outputs": [],
   "source": [
    "#df['location'].hist(bins = 'auto')"
   ]
  },
  {
   "cell_type": "markdown",
   "metadata": {},
   "source": [
    "### We shall consider a single company to see some visualizations and some Machine Learning Models"
   ]
  },
  {
   "cell_type": "code",
   "execution_count": 8,
   "metadata": {},
   "outputs": [],
   "source": [
    "#consider only the company Google\n",
    "dfg = df.loc[df['company'] == 1] "
   ]
  },
  {
   "cell_type": "code",
   "execution_count": 9,
   "metadata": {},
   "outputs": [
    {
     "data": {
      "image/png": "[encoded data removed]",
      "text/plain": [
       "<Figure size 432x288 with 1 Axes>"
      ]
     },
     "metadata": {},
     "output_type": "display_data"
    }
   ],
   "source": [
    "#overall ratings for the company\n",
    "a = dfg.ratings.value_counts()  \n",
    "b = [1,2,3,4,5] \n",
    "ax = a.plot(kind = 'bar')\n",
    "for rect in ax.patches:\n",
    "    height = rect.get_height()\n",
    "    ax.text(rect.get_x() + rect.get_width()/2., 1.01*height,'%d' % int(height),ha='center', va='bottom')\n",
    "plt.ylim(0, 7000)\n",
    "plt.ylabel('Number of people who rated')\n",
    "plt.xlabel('Values of rating')\n",
    "plt.title('Overall Ratings for Microsoft')\n",
    "plt.show()"
   ]
  },
  {
   "cell_type": "code",
   "execution_count": 10,
   "metadata": {},
   "outputs": [
    {
     "data": {
      "image/png": "[encoded data removed]",
      "text/plain": [
       "<Figure size 864x432 with 2 Axes>"
      ]
     },
     "metadata": {},
     "output_type": "display_data"
    }
   ],
   "source": [
    "#work balance stars and career opportunities\n",
    "fig, axs = plt.subplots(figsize=(12,6), nrows=1, ncols=2)\n",
    "a = dfg.workbalance.value_counts()\n",
    "a1 = dfg.careeropp.value_counts()\n",
    "bx = [0,1,1.5,2,2.5,3,3.5,4,4.5,5]\n",
    "a.plot(ax = axs[0], kind = 'bar')\n",
    "plt.ylim(0, 7000)\n",
    "axs[0].set_title('Ratings for Work Balance')\n",
    "plt.xlabel('Ratings')\n",
    "plt.ylabel('Values of rating')\n",
    "for rect in axs[0].patches:\n",
    "    height = rect.get_height()\n",
    "    axs[0].text(rect.get_x() + rect.get_width()/2., 1.01*height,'%d' % int(height),ha='center', va='bottom')\n",
    "a1.plot(ax = axs[1], kind = 'bar')\n",
    "axs[1].set_title('Ratings for Career Opportunities')\n",
    "for rect in axs[1].patches:\n",
    "    height = rect.get_height()\n",
    "    axs[1].text(rect.get_x() + rect.get_width()/2., 1.01*height,'%d' % int(height),ha='center', va='bottom')\n",
    "plt.ylim(0, 5000)\n",
    "plt.xlabel('Ratings')\n",
    "plt.ylabel('Values of rating')\n",
    "plt.show()"
   ]
  },
  {
   "cell_type": "code",
   "execution_count": 11,
   "metadata": {},
   "outputs": [
    {
     "data": {
      "image/png": "[encoded data removed]",
      "text/plain": [
       "<Figure size 864x360 with 2 Axes>"
      ]
     },
     "metadata": {},
     "output_type": "display_data"
    }
   ],
   "source": [
    "#culture Values and Senior Management Ratings\n",
    "fig, axs = plt.subplots(figsize=(12,5), nrows=1, ncols=2)\n",
    "a = dfg.culturevalue.value_counts()\n",
    "a1 = dfg.seniormgmt.value_counts()\n",
    "bx = [0,1,1.5,2,2.5,3,3.5,4,4.5,5]\n",
    "a.plot(ax = axs[0], kind = 'bar')\n",
    "axs[0].set_title('Ratings for Culture Values')\n",
    "plt.xlabel('Ratings')\n",
    "plt.ylabel('Values of rating')\n",
    "for rect in axs[0].patches:\n",
    "    height = rect.get_height()\n",
    "    axs[0].text(rect.get_x() + rect.get_width()/2., 1.01*height,'%d' % int(height),ha='center', va='bottom')\n",
    "plt.ylim(0, 6000)\n",
    "a1.plot(ax = axs[1], kind = 'bar')\n",
    "axs[1].set_title('Ratings for Senior Management')\n",
    "for rect in axs[1].patches:\n",
    "    height = rect.get_height()\n",
    "    axs[1].text(rect.get_x() + rect.get_width()/2., 1.01*height,'%d' % int(height),ha='center', va='bottom')\n",
    "plt.ylim(0, 4000)\n",
    "plt.xlabel('Ratings')\n",
    "plt.ylabel('Values of rating')\n",
    "plt.show()"
   ]
  },
  {
   "cell_type": "code",
   "execution_count": 12,
   "metadata": {},
   "outputs": [
    {
     "data": {
      "image/png": "[encoded data removed]",
      "text/plain": [
       "<Figure size 432x288 with 1 Axes>"
      ]
     },
     "metadata": {},
     "output_type": "display_data"
    }
   ],
   "source": [
    "a = dfg.compbenefit.value_counts()\n",
    "bx = [0,1,1.5,2,2.5,3,3.5,4,4.5,5]\n",
    "#dfa = pd.DataFrame(a,bx)\n",
    "ax = a.plot.bar()\n",
    "for rect in ax.patches:\n",
    "    height = rect.get_height()\n",
    "    ax.text(rect.get_x() + rect.get_width()/2., 1.01*height,'%d' % int(height),ha='center', va='bottom')\n",
    "plt.ylim(0, 6000)\n",
    "plt.ylabel('Values of rating')\n",
    "plt.xlabel('Total number of people who rated')\n",
    "plt.title('Ratings for Comp benefit')\n",
    "plt.show()"
   ]
  },
  {
   "cell_type": "code",
   "execution_count": 13,
   "metadata": {},
   "outputs": [],
   "source": [
    "listtitle = list(dfg.title)\n",
    "title = [str(e) for e in listtitle]\n",
    "former = []\n",
    "current = []\n",
    "title = [word[0:16].strip() for word in title]\n",
    "title = [word.replace('Former Employee', '0') for word in title]\n",
    "title = [word.replace('Current Employee','1') for word in title]\n",
    "title = [int(x) for x in title]"
   ]
  },
  {
   "cell_type": "code",
   "execution_count": 14,
   "metadata": {},
   "outputs": [
    {
     "data": {
      "image/png": "[encoded data removed]",
      "text/plain": [
       "<Figure size 432x288 with 1 Axes>"
      ]
     },
     "metadata": {},
     "output_type": "display_data"
    }
   ],
   "source": [
    "new_df = pd.DataFrame(title, columns=['column1'])\n",
    "x = new_df.column1.value_counts()\n",
    "ax = x.plot(kind = 'bar')\n",
    "for rect in ax.patches:\n",
    "    height = rect.get_height()\n",
    "    ax.text(rect.get_x() + rect.get_width()/2., 1.01*height,'%d' % int(height),ha='center') #, va='bottom')\n",
    "plt.ylim(0, 7000)\n",
    "ax.set_xticklabels(('Current Employees','Former Employees'))\n",
    "plt.ylabel('Number of Employees')\n",
    "plt.title('Total Current and former employees')\n",
    "plt.show()"
   ]
  },
  {
   "cell_type": "markdown",
   "metadata": {},
   "source": [
    "### The reviews for the company can be categorized into 4 kinds - Excellent/Best, Good, Medium, Bad and No Review"
   ]
  },
  {
   "cell_type": "code",
   "execution_count": 15,
   "metadata": {},
   "outputs": [],
   "source": [
    "# This was categorized using regex\n",
    "#best = 4; good = 3; medium = 2; bad = 1 ; na = 0\n",
    "summary_list = list(dfg.summary)\n",
    "summary_list = [str(x) for x in summary_list]\n",
    "summary_list = [word.strip(\" \") for word in summary_list]\n",
    "bestwords = re.compile(\"Best|Great|Amazing|wonderful|Top|Dream|Incredible|Excellent|Love|Grrrreeeetttt|Exciting|Execellent|Genius|Exceeded|Exceeds|Awesome|Perfect|outstanding|dream|Surpasses|Surpassed\",re.IGNORECASE)\n",
    "goodwords = re.compile(\"Good|Geekland|Decent|Fun|Unique|NICE|Positive\",re.IGNORECASE)\n",
    "mediumwords = re.compile(\"OK|Average|Mixed\\sBag\",re.IGNORECASE)\n",
    "badwords = re.compile(\"Burn\\sout|Unethical|avoid|decline|Terrible|difficult|UGH|Disappointing|long\\shours|Not\\sgreat|too\\slarge|bad|overrated|High\\sstress|big\\scompany\\snow|Not\\sperfect|meh|WTF|Golden\\sHandcuffs*|Not\\swhat\\sit\\sused\\sto\\sbe|crowded|Screwing|Not\\sfor\",re.IGNORECASE)\n",
    "best_list = [x for x in summary_list if bestwords.findall(x)] #[x for x in summary_list if 'best' in summary_list]\n",
    "new_summary = [x for x in summary_list if x not in best_list]\n",
    "good_list = [x for x in new_summary if goodwords.findall(x)]\n",
    "new_summary = [x for x in summary_list if x not in best_list and good_list]\n",
    "medium_list = [x for x in new_summary if mediumwords.findall(x)]\n",
    "new_summary = [x for x in summary_list if x not in best_list and good_list and medium_list]\n",
    "bad_list = [x for x in new_summary if badwords.findall(x)]"
   ]
  },
  {
   "cell_type": "code",
   "execution_count": 16,
   "metadata": {},
   "outputs": [],
   "source": [
    "def funrep(summary_list):\n",
    "    for x in summary_list:\n",
    "        if x in best_list:\n",
    "            summary_list[summary_list.index(x)] = '4'\n",
    "        elif x in good_list:\n",
    "            summary_list[summary_list.index(x)] = '3'\n",
    "        elif x in medium_list:\n",
    "            summary_list[summary_list.index(x)] = '2'\n",
    "        elif x in bad_list:\n",
    "            summary_list[summary_list.index(x)] = '1'\n",
    "        else:\n",
    "            summary_list[summary_list.index(x)] = '0'"
   ]
  },
  {
   "cell_type": "code",
   "execution_count": 17,
   "metadata": {},
   "outputs": [],
   "source": [
    "funrep(summary_list)"
   ]
  },
  {
   "cell_type": "code",
   "execution_count": 18,
   "metadata": {},
   "outputs": [],
   "source": [
    "summary_list = [int(x) for x in summary_list]"
   ]
  },
  {
   "cell_type": "code",
   "execution_count": 19,
   "metadata": {},
   "outputs": [
    {
     "data": {
      "image/png": "[encoded data removed]",
      "text/plain": [
       "<Figure size 432x288 with 1 Axes>"
      ]
     },
     "metadata": {},
     "output_type": "display_data"
    }
   ],
   "source": [
    "#plot\n",
    "dfrev = pd.DataFrame(summary_list, columns= ['review'])\n",
    "Z = dfrev.review.value_counts()\n",
    "index=['Best','Good','medium','bad','no review']\n",
    "ax = Z.plot(kind = 'bar')\n",
    "for rect in ax.patches:\n",
    "    height = rect.get_height()\n",
    "    ax.text(rect.get_x() + rect.get_width()/2., 1.01*height,'%d' % int(height),ha='center', va='bottom')\n",
    "plt.ylim(0, 10000)\n",
    "#ax.set_xticklabels(('No review','Best','Good','Bad','Medium'))\n",
    "plt.ylabel('Values of rating')\n",
    "plt.xlabel('Total number of people who rated')\n",
    "plt.title('Ratings for Reviews')\n",
    "plt.show()"
   ]
  },
  {
   "cell_type": "code",
   "execution_count": 20,
   "metadata": {},
   "outputs": [
    {
     "name": "stderr",
     "output_type": "stream",
     "text": [
      "/opt/conda/envs/data3/lib/python3.6/site-packages/ipykernel_launcher.py:3: SettingWithCopyWarning: \n",
      "A value is trying to be set on a copy of a slice from a DataFrame.\n",
      "Try using .loc[row_indexer,col_indexer] = value instead\n",
      "\n",
      "See the caveats in the documentation: http://pandas.pydata.org/pandas-docs/stable/indexing.html#indexing-view-versus-copy\n",
      "  This is separate from the ipykernel package so we can avoid doing imports until\n",
      "/opt/conda/envs/data3/lib/python3.6/site-packages/ipykernel_launcher.py:4: SettingWithCopyWarning: \n",
      "A value is trying to be set on a copy of a slice from a DataFrame.\n",
      "Try using .loc[row_indexer,col_indexer] = value instead\n",
      "\n",
      "See the caveats in the documentation: http://pandas.pydata.org/pandas-docs/stable/indexing.html#indexing-view-versus-copy\n",
      "  after removing the cwd from sys.path.\n"
     ]
    },
    {
     "data": {
      "text/html": [
       "<div>\n",
       "<style scoped>\n",
       "    .dataframe tbody tr th:only-of-type {\n",
       "        vertical-align: middle;\n",
       "    }\n",
       "\n",
       "    .dataframe tbody tr th {\n",
       "        vertical-align: top;\n",
       "    }\n",
       "\n",
       "    .dataframe thead th {\n",
       "        text-align: right;\n",
       "    }\n",
       "</style>\n",
       "<table border=\"1\" class=\"dataframe\">\n",
       "  <thead>\n",
       "    <tr style=\"text-align: right;\">\n",
       "      <th></th>\n",
       "      <th>company</th>\n",
       "      <th>location</th>\n",
       "      <th>dates</th>\n",
       "      <th>title</th>\n",
       "      <th>summary</th>\n",
       "      <th>pros</th>\n",
       "      <th>cons</th>\n",
       "      <th>advicemgmt</th>\n",
       "      <th>ratings</th>\n",
       "      <th>workbalance</th>\n",
       "      <th>culturevalue</th>\n",
       "      <th>careeropp</th>\n",
       "      <th>compbenefit</th>\n",
       "      <th>seniormgmt</th>\n",
       "      <th>helpful</th>\n",
       "      <th>link</th>\n",
       "      <th>new_title</th>\n",
       "      <th>rev</th>\n",
       "    </tr>\n",
       "  </thead>\n",
       "  <tbody>\n",
       "    <tr>\n",
       "      <th>0</th>\n",
       "      <td>1</td>\n",
       "      <td>none</td>\n",
       "      <td>Dec 11, 2018</td>\n",
       "      <td>Current Employee - Anonymous Employee</td>\n",
       "      <td>Best Company to work for</td>\n",
       "      <td>People are smart and friendly</td>\n",
       "      <td>Bureaucracy is slowing things down</td>\n",
       "      <td>none</td>\n",
       "      <td>5.0</td>\n",
       "      <td>4.0</td>\n",
       "      <td>5.0</td>\n",
       "      <td>5.0</td>\n",
       "      <td>4.0</td>\n",
       "      <td>5.0</td>\n",
       "      <td>0</td>\n",
       "      <td>https://www.glassdoor.com/Reviews/Google-Revie...</td>\n",
       "      <td>1</td>\n",
       "      <td>4</td>\n",
       "    </tr>\n",
       "    <tr>\n",
       "      <th>1</th>\n",
       "      <td>1</td>\n",
       "      <td>Mountain View, CA</td>\n",
       "      <td>Jun 21, 2013</td>\n",
       "      <td>Former Employee - Program Manager</td>\n",
       "      <td>Moving at the speed of light, burn out is inev...</td>\n",
       "      <td>1) Food, food, food. 15+ cafes on main campus ...</td>\n",
       "      <td>1) Work/life balance. What balance? All those ...</td>\n",
       "      <td>1) Don't dismiss emotional intelligence and ad...</td>\n",
       "      <td>4.0</td>\n",
       "      <td>2.0</td>\n",
       "      <td>3.0</td>\n",
       "      <td>3.0</td>\n",
       "      <td>5.0</td>\n",
       "      <td>3.0</td>\n",
       "      <td>2094</td>\n",
       "      <td>https://www.glassdoor.com/Reviews/Google-Revie...</td>\n",
       "      <td>0</td>\n",
       "      <td>1</td>\n",
       "    </tr>\n",
       "  </tbody>\n",
       "</table>\n",
       "</div>"
      ],
      "text/plain": [
       "   company           location          dates  \\\n",
       "0        1               none   Dec 11, 2018   \n",
       "1        1  Mountain View, CA   Jun 21, 2013   \n",
       "\n",
       "                                   title  \\\n",
       "0  Current Employee - Anonymous Employee   \n",
       "1      Former Employee - Program Manager   \n",
       "\n",
       "                                             summary  \\\n",
       "0                           Best Company to work for   \n",
       "1  Moving at the speed of light, burn out is inev...   \n",
       "\n",
       "                                                pros  \\\n",
       "0                      People are smart and friendly   \n",
       "1  1) Food, food, food. 15+ cafes on main campus ...   \n",
       "\n",
       "                                                cons  \\\n",
       "0                 Bureaucracy is slowing things down   \n",
       "1  1) Work/life balance. What balance? All those ...   \n",
       "\n",
       "                                          advicemgmt  ratings workbalance  \\\n",
       "0                                               none      5.0         4.0   \n",
       "1  1) Don't dismiss emotional intelligence and ad...      4.0         2.0   \n",
       "\n",
       "  culturevalue careeropp compbenefit seniormgmt  helpful  \\\n",
       "0          5.0       5.0         4.0        5.0        0   \n",
       "1          3.0       3.0         5.0        3.0     2094   \n",
       "\n",
       "                                                link  new_title  rev  \n",
       "0  https://www.glassdoor.com/Reviews/Google-Revie...          1    4  \n",
       "1  https://www.glassdoor.com/Reviews/Google-Revie...          0    1  "
      ]
     },
     "execution_count": 20,
     "metadata": {},
     "output_type": "execute_result"
    }
   ],
   "source": [
    "# For better interpretation, use  the new titles and columns.\n",
    "#print(len(dfrev) ,len(new_df)) #.head()\n",
    "dfg['new_title'] = new_df['column1']\n",
    "dfg['rev'] = dfrev['review']\n",
    "dfg.head(2)"
   ]
  },
  {
   "cell_type": "code",
   "execution_count": 21,
   "metadata": {},
   "outputs": [
    {
     "name": "stderr",
     "output_type": "stream",
     "text": [
      "/opt/conda/envs/data3/lib/python3.6/site-packages/pandas/core/generic.py:5890: SettingWithCopyWarning: \n",
      "A value is trying to be set on a copy of a slice from a DataFrame\n",
      "\n",
      "See the caveats in the documentation: http://pandas.pydata.org/pandas-docs/stable/indexing.html#indexing-view-versus-copy\n",
      "  self._update_inplace(new_data)\n"
     ]
    }
   ],
   "source": [
    "dfg['ratings'].replace('none', 0, inplace=True)\n",
    "dfg['workbalance'].replace('none', 0, inplace=True)\n",
    "dfg['culturevalue'].replace('none', 0, inplace=True)\n",
    "dfg['careeropp'].replace('none', 0, inplace=True)\n",
    "dfg['compbenefit'].replace('none', 0, inplace=True)\n",
    "dfg['seniormgmt'].replace('none', 0, inplace=True)"
   ]
  },
  {
   "cell_type": "markdown",
   "metadata": {},
   "source": [
    "### Building Machine Learning Model and try finding out the most important features"
   ]
  },
  {
   "cell_type": "code",
   "execution_count": 22,
   "metadata": {},
   "outputs": [],
   "source": [
    "X= dfg[['workbalance','culturevalue','careeropp','compbenefit','seniormgmt','rev']] #'ratings',\n",
    "y = dfg['new_title']\n",
    "X1 = X.iloc[:-1:]\n",
    "y1 = y[:-1]"
   ]
  },
  {
   "cell_type": "code",
   "execution_count": 23,
   "metadata": {},
   "outputs": [
    {
     "name": "stdout",
     "output_type": "stream",
     "text": [
      "             precision    recall  f1-score   support\n",
      "\n",
      "          0       0.73      0.45      0.56      3140\n",
      "          1       0.71      0.89      0.79      4678\n",
      "\n",
      "avg / total       0.72      0.71      0.69      7818\n",
      "\n",
      "Precision value 0.7064220183486238\n",
      "Recall value 0.8888413852073536\n",
      "f1 value 0.7872018174933737\n",
      "Kappa value 0.361377003202333\n",
      "Accuracy 0.7124584292657968\n"
     ]
    }
   ],
   "source": [
    "#Extra Tress Classifier\n",
    "model = ExtraTreesClassifier(n_estimators=10,random_state=0)\n",
    "model.fit(X1,y1)\n",
    "predx = model.predict(X1)\n",
    "print(metrics.classification_report(y1,predx))                             \n",
    "precisionVal = metrics.precision_score(y1,predx)\n",
    "print(\"Precision value\", precisionVal)\n",
    "recallVal = metrics.recall_score(y1,predx)\n",
    "print(\"Recall value\", recallVal)\n",
    "f1Val = metrics.f1_score(y1,predx)\n",
    "print(\"f1 value\", f1Val)\n",
    "KappaVal = metrics.cohen_kappa_score(y1, predx)\n",
    "print(\"Kappa value\", KappaVal)\n",
    "Accuracy= metrics.accuracy_score(y1,predx)\n",
    "print(\"Accuracy\", Accuracy)"
   ]
  },
  {
   "cell_type": "code",
   "execution_count": 24,
   "metadata": {},
   "outputs": [
    {
     "name": "stdout",
     "output_type": "stream",
     "text": [
      "Feature ranking with Extra trees Classifier:\n",
      "1. feature 2 (0.209904)\n",
      "2. feature 4 (0.183339)\n",
      "3. feature 3 (0.170260)\n",
      "4. feature 0 (0.169071)\n",
      "5. feature 1 (0.160077)\n",
      "6. feature 5 (0.107349)\n"
     ]
    },
    {
     "data": {
      "image/png": "[encoded data removed]",
      "text/plain": [
       "<Figure size 576x288 with 1 Axes>"
      ]
     },
     "metadata": {},
     "output_type": "display_data"
    }
   ],
   "source": [
    "importances = model.feature_importances_\n",
    "std = np.std([tree.feature_importances_ for tree in model.estimators_],\n",
    "             axis=0)\n",
    "indices = np.argsort(importances)[::-1]\n",
    "\n",
    "print(\"Feature ranking with Extra trees Classifier:\")\n",
    "for f in range(X.shape[1]):\n",
    "    print(\"%d. feature %d (%f)\" % (f + 1, indices[f], importances[indices[f]]))\n",
    "\n",
    "plt.figure(figsize= (8,4))\n",
    "plt.title(\"Feature importances\")\n",
    "#legend = ['workbalance','culturevalue','careeropp','compbenefit','seniormgmt','reviews']\n",
    "plt.bar(range(X.shape[1]), importances[indices],\n",
    "       color=\"rgbkcm\" , yerr=std[indices], align=\"center\")\n",
    "plt.xticks(range(X.shape[1]), indices)\n",
    "plt.xlim([-1, X.shape[1]])\n",
    "plt.show()"
   ]
  },
  {
   "cell_type": "code",
   "execution_count": 25,
   "metadata": {},
   "outputs": [
    {
     "name": "stdout",
     "output_type": "stream",
     "text": [
      "             precision    recall  f1-score   support\n",
      "\n",
      "          0       0.76      0.40      0.53      3140\n",
      "          1       0.70      0.91      0.79      4678\n",
      "\n",
      "avg / total       0.72      0.71      0.68      7818\n",
      "\n",
      "Precision value 0.6951993490642799\n",
      "Recall value 0.9132107738349722\n",
      "f1 value 0.7894299177677169\n",
      "Kappa value 0.34306139970976635\n",
      "Accuracy 0.7084932207725761\n"
     ]
    }
   ],
   "source": [
    "model = RandomForestClassifier()\n",
    "model.fit(X1,y1)\n",
    "featureimp = model.feature_importances_\n",
    "predx = model.predict(X1)\n",
    "print(metrics.classification_report(y1,predx))                                  \n",
    "precisionVal = metrics.precision_score(y1,predx)\n",
    "print(\"Precision value\", precisionVal)\n",
    "recallVal = metrics.recall_score(y1,predx)\n",
    "print(\"Recall value\", recallVal)\n",
    "f1Val = metrics.f1_score(y1,predx)\n",
    "print(\"f1 value\", f1Val)\n",
    "KappaVal = metrics.cohen_kappa_score(y1, predx)\n",
    "print(\"Kappa value\", KappaVal)\n",
    "Accuracy= metrics.accuracy_score(y1,predx)\n",
    "print(\"Accuracy\", Accuracy)"
   ]
  },
  {
   "cell_type": "code",
   "execution_count": 26,
   "metadata": {},
   "outputs": [
    {
     "name": "stdout",
     "output_type": "stream",
     "text": [
      "Feature ranking with Random Forest:\n",
      "1. feature 4 (0.212388)\n",
      "2. feature 0 (0.180982)\n",
      "3. feature 3 (0.173274)\n",
      "4. feature 1 (0.161028)\n",
      "5. feature 2 (0.147213)\n",
      "6. feature 5 (0.125114)\n"
     ]
    },
    {
     "data": {
      "image/png": "[encoded data removed]",
      "text/plain": [
       "<Figure size 576x288 with 1 Axes>"
      ]
     },
     "metadata": {},
     "output_type": "display_data"
    }
   ],
   "source": [
    "importances = model.feature_importances_\n",
    "std = np.std([tree.feature_importances_ for tree in model.estimators_],\n",
    "             axis=0)\n",
    "indices = np.argsort(importances)[::-1]\n",
    "print(\"Feature ranking with Random Forest:\")\n",
    "\n",
    "for f in range(X.shape[1]):\n",
    "    print(\"%d. feature %d (%f)\" % (f + 1, indices[f], importances[indices[f]]))\n",
    "\n",
    "plt.figure(figsize= (8,4))\n",
    "plt.title(\"Feature importances with Random Forest\")\n",
    "#legend = ['workbalance','culturevalue','careeropp','compbenefit','seniormgmt']\n",
    "plt.bar(range(X.shape[1]), importances[indices],\n",
    "       color=\"rgbkcm\" , yerr=std[indices], align=\"center\")\n",
    "plt.xticks(range(X.shape[1]), indices)\n",
    "plt.xlim([-1, X.shape[1]])\n",
    "plt.show()\n",
    "\n"
   ]
  },
  {
   "cell_type": "markdown",
   "metadata": {},
   "source": [
    "## Conclusion"
   ]
  },
  {
   "cell_type": "markdown",
   "metadata": {},
   "source": [
    "   Using Human Resource Analytics helps a company to make more important business decisions effectively. The HR Analytics show the company as to what changes are required. Turning the HR data into an insight is a valuable and a strategic way for any company to take decisions without losing a lot of money. If we want to measure the impact of employee engagement on financial performance, we need to combine the companiy's annual engagement survey with its performance data. This way we can calculate the impact of engagement on the financial performance of different stores and departments. These insights can impact the way a business hires and may even help make tough decisions like changing its personnel."
   ]
  },
  {
   "cell_type": "markdown",
   "metadata": {},
   "source": [
    "From the above results we can see that for the company Google, Work Balance and the career opportunities seem to be the most important factor for an employee to either stay or leave the company. Also, from one of the graphs above, we see that about 40% of the people chose to leave the company for the above factors."
   ]
  },
  {
   "cell_type": "code",
   "execution_count": null,
   "metadata": {},
   "outputs": [],
   "source": []
  }
 ],
 "metadata": {
  "kernelspec": {
   "display_name": "Python 3",
   "language": "python",
   "name": "python3"
  },
  "language_info": {
   "codemirror_mode": {
    "name": "ipython",
    "version": 3
   },
   "file_extension": ".py",
   "mimetype": "text/x-python",
   "name": "python",
   "nbconvert_exporter": "python",
   "pygments_lexer": "ipython3",
   "version": "3.6.2"
  }
 },
 "nbformat": 4,
 "nbformat_minor": 2
}
